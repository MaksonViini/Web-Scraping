{
 "metadata": {
  "language_info": {
   "codemirror_mode": {
    "name": "ipython",
    "version": 3
   },
   "file_extension": ".py",
   "mimetype": "text/x-python",
   "name": "python",
   "nbconvert_exporter": "python",
   "pygments_lexer": "ipython3",
   "version": "3.9.1-final"
  },
  "orig_nbformat": 2,
  "kernelspec": {
   "name": "python3",
   "display_name": "Python 3.9.1 64-bit",
   "metadata": {
    "interpreter": {
     "hash": "0e23e1a9f4ca7468c8af4ee6ce308b9537df5993bd4db8f7613c5e8b7c551c19"
    }
   }
  }
 },
 "nbformat": 4,
 "nbformat_minor": 2,
 "cells": [
  {
   "cell_type": "code",
   "execution_count": 1,
   "metadata": {},
   "outputs": [],
   "source": [
    "import pandas as pd\n",
    "import tweepy as tw"
   ]
  },
  {
   "cell_type": "code",
   "execution_count": 2,
   "metadata": {},
   "outputs": [],
   "source": [
    "with open('twitter-tokens.txt', 'r') as tfile:\n",
    "    consumer_key = tfile.readline().strip('\\n')\n",
    "    consumer_secret = tfile.readline().strip('\\n')\n",
    "    access_token = tfile.readline().strip('\\n')\n",
    "    access_token_secret = tfile.readline().strip('\\n')"
   ]
  },
  {
   "cell_type": "code",
   "execution_count": 3,
   "metadata": {},
   "outputs": [],
   "source": [
    "auth = tw.OAuthHandler(consumer_key, consumer_secret)\n",
    "auth.set_access_token(access_token, access_token_secret)\n",
    "\n",
    "api = tw.API(auth)\n",
    "\n",
    "public_tweets = api.home_timeline()"
   ]
  },
  {
   "cell_type": "code",
   "execution_count": 4,
   "metadata": {},
   "outputs": [
    {
     "output_type": "stream",
     "name": "stdout",
     "text": [
      "A ação realizada pela Polícia Federal, @MPT_PGT , Subsecretaria de Inspeção do Trabalho (SIT), @MPF_PGR  e… https://t.co/ZCSPE1AYqG\nRT @_dontfuckabout: yep yep yep she’s even explained it so clearly https://t.co/9TwXFFG6Gz\ncaralho. https://t.co/FEcMQ1tjWH\nGalera ja começa a stackar os pontos porque vai ter MUITO prêmio absurdo. Serio mesmo 👀 https://t.co/8AH49I0ulG\nNovidade permite melhor visualização do conteúdo e promove mais conforto em seu uso; confira! #tecmundo https://t.co/eCCC4QC4Yk\nBem dormido @HEN1 https://t.co/nfjtboaI4K\nhttps://t.co/jfnDBSWNqV https://t.co/IqysRZHpOn\nAGÊNCIA DA ALEMANHA RECOMENDA QUE VACINA DA ASTRAZENECA NÃO SEJA USADA EM MAIORES DE 65 ANOS. https://t.co/9flFxJTezs\nRT @mblivrenews: O atual presidente da Câmara tem ameaçado abrir o impeachment\n\nhttps://t.co/qznA69QRRw\nRT @nakfps: No mesmo grupo que os hómi @FalleNCS e @coldzera \n\nBoraaa que vai pegar fogo\n🔥🔥🇧🇷🇧🇷\n\n#SomosMIBR\nPelo acordo que fez o MDB rifar a candidatura de @SimoneTebetms, o partido ficará com a primeira-vice-presidência d… https://t.co/PpUcT3YhWY\nJá já estamos entrando ao vivo: #KimNoMorning\n\nhttps://t.co/dJIEHuGW5h\nRT @RivalryCsgobr: EMPURRA 🪙 EMPURRA 🪙 EMPURRA 🪙 EMPURRA 🪙 EMPURRA 🪙 EMPURRA 🪙 EMPURRA 🪙 EMPURRA 🪙 \n\nDá um força aí! Segue no insta: rivalr…\nAtualização gratuita de nova geração de The Division 2 foi confirmada e chega com evento crossover com Resident Evi… https://t.co/vVhnkWe053\n#CSGO: Jogador de 19 anos ajudou sua equipe a ganhar a rodada de forma inusitada\n\nhttps://t.co/cP4TtFEota\nRT @lenine_junior: o legal também é os petistas falando disso como se fossem os mais corretos do mundo.... o sujo falando do mal lavado.. h…\nRT @RevistaCrusoe: Às vésperas da eleição da Câmara, Bolsonaro vai inaugurar ponte no Nordeste. https://t.co/WoVjHYKJOJ\nRT @RevistaCrusoe: Desemprego cai para 14,1%, mas cenário é de estabilidade, segundo o IBGE. https://t.co/725sO2OpZR\n.@davialcolumbre não para. https://t.co/Tt13tJtzZq\nRT @rangerbad: godzilla: lagarto gigante radioativo e ja salvou a terra 7 vezes\n\nking: kong\n"
     ]
    }
   ],
   "source": [
    "for tweet in public_tweets:\n",
    "    print(tweet.text)"
   ]
  },
  {
   "cell_type": "code",
   "execution_count": 5,
   "metadata": {},
   "outputs": [],
   "source": [
    "tw_keys = tweet._json.keys()\n",
    "\n",
    "tweets_dict = {}\n",
    "\n",
    "tweets_dict = tweets_dict.fromkeys(['created_at', 'id', 'id_str', 'text', 'truncated', 'entities', 'metadata', 'source', 'in_reply_to_status_id', 'in_reply_to_status_id_str', 'in_reply_to_user_id', 'in_reply_to_user_id_str', 'in_reply_to_screen_name', 'user', 'geo', 'coordinates', 'place', 'contributors', 'is_quote_status', 'retweet_count', 'favorite_count', 'favorited', 'retweeted'])"
   ]
  },
  {
   "cell_type": "code",
   "execution_count": 6,
   "metadata": {},
   "outputs": [],
   "source": [
    "query_search = \"#enem2021\"  + \" -filter:retweets\" \n",
    "\n",
    "cursor_tweets = tw.Cursor(api.search,\n",
    "            q=query_search).items(10)"
   ]
  },
  {
   "cell_type": "code",
   "execution_count": 7,
   "metadata": {},
   "outputs": [],
   "source": [
    "for tweet in cursor_tweets:\n",
    "    for key in tweets_dict.keys():\n",
    "        try:\n",
    "            tw_value = tweet._json[key]\n",
    "            tweets_dict[key].append(tw_value)\n",
    "        except KeyError:\n",
    "            tw_value = \"\"\n",
    "            if(tweets_dict[key] is None):\n",
    "                tweets_dict[key] = [tw_value]\n",
    "            else:\n",
    "                tweets_dict[key].append(tw_value)\n",
    "        except:\n",
    "            tweets_dict[key] = [tw_value]\n",
    "        #print(\"tweets_dict[key]: {} - tweet[key]: {}\".format(tweets_dict[key],  tw_value))"
   ]
  },
  {
   "cell_type": "code",
   "execution_count": 8,
   "metadata": {},
   "outputs": [],
   "source": [
    "df_tweets = pd.DataFrame.from_dict(tweets_dict)"
   ]
  },
  {
   "cell_type": "code",
   "execution_count": 9,
   "metadata": {},
   "outputs": [
    {
     "output_type": "execute_result",
     "data": {
      "text/plain": [
       "                       created_at                   id               id_str  \\\n",
       "0  Thu Jan 28 13:25:36 +0000 2021  1354782682186715136  1354782682186715136   \n",
       "1  Thu Jan 28 13:19:39 +0000 2021  1354781184086179843  1354781184086179843   \n",
       "2  Thu Jan 28 13:02:33 +0000 2021  1354776882533830656  1354776882533830656   \n",
       "3  Thu Jan 28 12:09:25 +0000 2021  1354763508286697472  1354763508286697472   \n",
       "4  Thu Jan 28 11:42:55 +0000 2021  1354756841545334786  1354756841545334786   \n",
       "\n",
       "                                                text  truncated  \\\n",
       "0  #enem2021 amazonense também tem seu direito de...      False   \n",
       "1  Alguém aqui vai fazer o Enem domingo, versão d...      False   \n",
       "2  Acertei a questão do Enem 😍\\nQuestão anulada 😭...      False   \n",
       "3  Pqp, hoje já é quinta, segunda eu volto a estu...      False   \n",
       "4  Tem que levar caneta no Enem digital? Prova se...       True   \n",
       "\n",
       "                                            entities  \\\n",
       "0  {'hashtags': [{'text': 'enem2021', 'indices': ...   \n",
       "1  {'hashtags': [{'text': 'enem2021', 'indices': ...   \n",
       "2  {'hashtags': [{'text': 'enem2021', 'indices': ...   \n",
       "3  {'hashtags': [{'text': 'enem2021', 'indices': ...   \n",
       "4  {'hashtags': [], 'symbols': [], 'user_mentions...   \n",
       "\n",
       "                                            metadata  \\\n",
       "0  {'iso_language_code': 'pt', 'result_type': 're...   \n",
       "1  {'iso_language_code': 'pt', 'result_type': 're...   \n",
       "2  {'iso_language_code': 'pt', 'result_type': 're...   \n",
       "3  {'iso_language_code': 'pt', 'result_type': 're...   \n",
       "4  {'iso_language_code': 'pt', 'result_type': 're...   \n",
       "\n",
       "                                              source  in_reply_to_status_id  \\\n",
       "0  <a href=\"http://twitter.com/download/android\" ...                    NaN   \n",
       "1  <a href=\"http://twitter.com/download/android\" ...                    NaN   \n",
       "2  <a href=\"https://mobile.twitter.com\" rel=\"nofo...                    NaN   \n",
       "3  <a href=\"http://twitter.com/download/iphone\" r...                    NaN   \n",
       "4  <a href=\"https://www.facebook.com/socialmlabs/...                    NaN   \n",
       "\n",
       "  in_reply_to_status_id_str  ...  \\\n",
       "0                      None  ...   \n",
       "1                      None  ...   \n",
       "2                      None  ...   \n",
       "3                      None  ...   \n",
       "4                      None  ...   \n",
       "\n",
       "                                                user   geo coordinates place  \\\n",
       "0  {'id': 1251556571311747074, 'id_str': '1251556...  None        None  None   \n",
       "1  {'id': 1259619043, 'id_str': '1259619043', 'na...  None        None  None   \n",
       "2  {'id': 1306910525360607232, 'id_str': '1306910...  None        None  None   \n",
       "3  {'id': 1700080656, 'id_str': '1700080656', 'na...  None        None  None   \n",
       "4  {'id': 40006201, 'id_str': '40006201', 'name':...  None        None  None   \n",
       "\n",
       "  contributors is_quote_status retweet_count favorite_count  favorited  \\\n",
       "0         None           False             0              0      False   \n",
       "1         None           False             0              0      False   \n",
       "2         None           False             0              0      False   \n",
       "3         None           False             0              0      False   \n",
       "4         None           False             0              0      False   \n",
       "\n",
       "   retweeted  \n",
       "0      False  \n",
       "1      False  \n",
       "2      False  \n",
       "3      False  \n",
       "4      False  \n",
       "\n",
       "[5 rows x 23 columns]"
      ],
      "text/html": "<div>\n<style scoped>\n    .dataframe tbody tr th:only-of-type {\n        vertical-align: middle;\n    }\n\n    .dataframe tbody tr th {\n        vertical-align: top;\n    }\n\n    .dataframe thead th {\n        text-align: right;\n    }\n</style>\n<table border=\"1\" class=\"dataframe\">\n  <thead>\n    <tr style=\"text-align: right;\">\n      <th></th>\n      <th>created_at</th>\n      <th>id</th>\n      <th>id_str</th>\n      <th>text</th>\n      <th>truncated</th>\n      <th>entities</th>\n      <th>metadata</th>\n      <th>source</th>\n      <th>in_reply_to_status_id</th>\n      <th>in_reply_to_status_id_str</th>\n      <th>...</th>\n      <th>user</th>\n      <th>geo</th>\n      <th>coordinates</th>\n      <th>place</th>\n      <th>contributors</th>\n      <th>is_quote_status</th>\n      <th>retweet_count</th>\n      <th>favorite_count</th>\n      <th>favorited</th>\n      <th>retweeted</th>\n    </tr>\n  </thead>\n  <tbody>\n    <tr>\n      <th>0</th>\n      <td>Thu Jan 28 13:25:36 +0000 2021</td>\n      <td>1354782682186715136</td>\n      <td>1354782682186715136</td>\n      <td>#enem2021 amazonense também tem seu direito de...</td>\n      <td>False</td>\n      <td>{'hashtags': [{'text': 'enem2021', 'indices': ...</td>\n      <td>{'iso_language_code': 'pt', 'result_type': 're...</td>\n      <td>&lt;a href=\"http://twitter.com/download/android\" ...</td>\n      <td>NaN</td>\n      <td>None</td>\n      <td>...</td>\n      <td>{'id': 1251556571311747074, 'id_str': '1251556...</td>\n      <td>None</td>\n      <td>None</td>\n      <td>None</td>\n      <td>None</td>\n      <td>False</td>\n      <td>0</td>\n      <td>0</td>\n      <td>False</td>\n      <td>False</td>\n    </tr>\n    <tr>\n      <th>1</th>\n      <td>Thu Jan 28 13:19:39 +0000 2021</td>\n      <td>1354781184086179843</td>\n      <td>1354781184086179843</td>\n      <td>Alguém aqui vai fazer o Enem domingo, versão d...</td>\n      <td>False</td>\n      <td>{'hashtags': [{'text': 'enem2021', 'indices': ...</td>\n      <td>{'iso_language_code': 'pt', 'result_type': 're...</td>\n      <td>&lt;a href=\"http://twitter.com/download/android\" ...</td>\n      <td>NaN</td>\n      <td>None</td>\n      <td>...</td>\n      <td>{'id': 1259619043, 'id_str': '1259619043', 'na...</td>\n      <td>None</td>\n      <td>None</td>\n      <td>None</td>\n      <td>None</td>\n      <td>False</td>\n      <td>0</td>\n      <td>0</td>\n      <td>False</td>\n      <td>False</td>\n    </tr>\n    <tr>\n      <th>2</th>\n      <td>Thu Jan 28 13:02:33 +0000 2021</td>\n      <td>1354776882533830656</td>\n      <td>1354776882533830656</td>\n      <td>Acertei a questão do Enem 😍\\nQuestão anulada 😭...</td>\n      <td>False</td>\n      <td>{'hashtags': [{'text': 'enem2021', 'indices': ...</td>\n      <td>{'iso_language_code': 'pt', 'result_type': 're...</td>\n      <td>&lt;a href=\"https://mobile.twitter.com\" rel=\"nofo...</td>\n      <td>NaN</td>\n      <td>None</td>\n      <td>...</td>\n      <td>{'id': 1306910525360607232, 'id_str': '1306910...</td>\n      <td>None</td>\n      <td>None</td>\n      <td>None</td>\n      <td>None</td>\n      <td>False</td>\n      <td>0</td>\n      <td>0</td>\n      <td>False</td>\n      <td>False</td>\n    </tr>\n    <tr>\n      <th>3</th>\n      <td>Thu Jan 28 12:09:25 +0000 2021</td>\n      <td>1354763508286697472</td>\n      <td>1354763508286697472</td>\n      <td>Pqp, hoje já é quinta, segunda eu volto a estu...</td>\n      <td>False</td>\n      <td>{'hashtags': [{'text': 'enem2021', 'indices': ...</td>\n      <td>{'iso_language_code': 'pt', 'result_type': 're...</td>\n      <td>&lt;a href=\"http://twitter.com/download/iphone\" r...</td>\n      <td>NaN</td>\n      <td>None</td>\n      <td>...</td>\n      <td>{'id': 1700080656, 'id_str': '1700080656', 'na...</td>\n      <td>None</td>\n      <td>None</td>\n      <td>None</td>\n      <td>None</td>\n      <td>False</td>\n      <td>0</td>\n      <td>0</td>\n      <td>False</td>\n      <td>False</td>\n    </tr>\n    <tr>\n      <th>4</th>\n      <td>Thu Jan 28 11:42:55 +0000 2021</td>\n      <td>1354756841545334786</td>\n      <td>1354756841545334786</td>\n      <td>Tem que levar caneta no Enem digital? Prova se...</td>\n      <td>True</td>\n      <td>{'hashtags': [], 'symbols': [], 'user_mentions...</td>\n      <td>{'iso_language_code': 'pt', 'result_type': 're...</td>\n      <td>&lt;a href=\"https://www.facebook.com/socialmlabs/...</td>\n      <td>NaN</td>\n      <td>None</td>\n      <td>...</td>\n      <td>{'id': 40006201, 'id_str': '40006201', 'name':...</td>\n      <td>None</td>\n      <td>None</td>\n      <td>None</td>\n      <td>None</td>\n      <td>False</td>\n      <td>0</td>\n      <td>0</td>\n      <td>False</td>\n      <td>False</td>\n    </tr>\n  </tbody>\n</table>\n<p>5 rows × 23 columns</p>\n</div>"
     },
     "metadata": {},
     "execution_count": 9
    }
   ],
   "source": [
    "df_tweets.head()"
   ]
  },
  {
   "cell_type": "code",
   "execution_count": 11,
   "metadata": {},
   "outputs": [
    {
     "output_type": "execute_result",
     "data": {
      "text/plain": [
       "(10, 23)"
      ]
     },
     "metadata": {},
     "execution_count": 11
    }
   ],
   "source": [
    "df_tweets.shape"
   ]
  },
  {
   "cell_type": "code",
   "execution_count": 10,
   "metadata": {},
   "outputs": [
    {
     "output_type": "stream",
     "name": "stdout",
     "text": [
      "0    #enem2021 amazonense também tem seu direito de...\n1    Alguém aqui vai fazer o Enem domingo, versão d...\n2    Acertei a questão do Enem 😍\\nQuestão anulada 😭...\n3    Pqp, hoje já é quinta, segunda eu volto a estu...\n4    Tem que levar caneta no Enem digital? Prova se...\n5    Espero q seja um erro...\\n#Enem: Inep/MEC diz ...\n6    @jeonsclear não 😭\\n#afazenda12 #enem2021\\n#bbt...\n7    @jungkooksoftz 3\\n#afazenda12 #enem2021\\n#bbtv...\n8    pra que eu fui ver o gabarito do enem mds kkk ...\n9    @4evertokki não\\n#afazenda12 #enem2021\\n#bbtvi...\nName: text, dtype: object\n"
     ]
    }
   ],
   "source": [
    "print(df_tweets['text'])"
   ]
  }
 ]
}