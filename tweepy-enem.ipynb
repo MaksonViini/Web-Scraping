{
 "metadata": {
  "language_info": {
   "codemirror_mode": {
    "name": "ipython",
    "version": 3
   },
   "file_extension": ".py",
   "mimetype": "text/x-python",
   "name": "python",
   "nbconvert_exporter": "python",
   "pygments_lexer": "ipython3",
   "version": "3.9.1-final"
  },
  "orig_nbformat": 2,
  "kernelspec": {
   "name": "python3",
   "display_name": "Python 3.9.1 64-bit",
   "metadata": {
    "interpreter": {
     "hash": "0e23e1a9f4ca7468c8af4ee6ce308b9537df5993bd4db8f7613c5e8b7c551c19"
    }
   }
  }
 },
 "nbformat": 4,
 "nbformat_minor": 2,
 "cells": [
  {
   "cell_type": "code",
   "execution_count": 1,
   "metadata": {},
   "outputs": [],
   "source": [
    "import pandas as pd\n",
    "import tweepy as tw"
   ]
  },
  {
   "cell_type": "code",
   "execution_count": 2,
   "metadata": {},
   "outputs": [],
   "source": [
    "with open('twitter-tokens.txt', 'r') as tfile:\n",
    "    consumer_key = tfile.readline().strip('\\n')\n",
    "    consumer_secret = tfile.readline().strip('\\n')\n",
    "    access_token = tfile.readline().strip('\\n')\n",
    "    access_token_secret = tfile.readline().strip('\\n')"
   ]
  },
  {
   "cell_type": "code",
   "execution_count": 3,
   "metadata": {},
   "outputs": [],
   "source": [
    "auth = tw.OAuthHandler(consumer_key, consumer_secret)\n",
    "auth.set_access_token(access_token, access_token_secret)\n",
    "\n",
    "api = tw.API(auth)\n",
    "\n",
    "public_tweets = api.home_timeline()"
   ]
  },
  {
   "cell_type": "code",
   "execution_count": 4,
   "metadata": {},
   "outputs": [
    {
     "output_type": "stream",
     "name": "stdout",
     "text": [
      "#TeamGodzilla🐲 ou #TeamKingKong🦍? \n\n#GodzillaVsKong\nFamilia, hoje é dia de celebração dos 10 anos de Liquid e @alienware. Obrigado por nos fornecer um equipamento incr… https://t.co/9ktBoJNRJY\nSpotify lança nove audiobooks de graça e cogita expansão https://t.co/fPFEW7dnHJ\nAplicativo de encontros cedeu dados para empresas de anúncios; saiba mais! #tecmundo https://t.co/zZ9mg6k7Rj\nRT @MhelMarrer: @DaniloGentili @omarciusmelhem Ele já devia saber que você faz com processos o mesmo que ele faz com colegas de trabalho: e…\nMuita live e pouco meme!\nOu a cabeça cresceu ou o cabelo encolheu!\nVem: https://t.co/z1lmpBlzvS\nVersatilidade e ideias futurísticas marcam o veículo como um 'sonho de consumo' para amantes de tecnologia.… https://t.co/Fh8i3f11Zk\nUsando WhatsApp, polícia recupera celulares roubados no RJ https://t.co/LcfQslp8bu\nhttps://t.co/ezHFFY5Wf3\n⚠️ ALERTA DE SPOILER ⚠️\n\nShadow muda uma manchete de jornal sobre a investigação do desaparecimento de Allison; Wed… https://t.co/2PcyF9s4nG\nQUEM É O PIOR TOP LANER DO CBLOL? 🤔\n\nSaiu a primeira parte do Depois Do Crime de ontem no YouTube, se inscrevam no… https://t.co/Dl1AASOE9e\n#R6: @HitFPS falou sobre a entrada no @MIBR6, suas funções na equipe e mais; confira.\n\nhttps://t.co/QicykTY7ov\nA novidade evidencia artefatos e pessoas ligadas ao faraó Teti, dentre elas uma de suas esposas. #tecmundo https://t.co/38JDi216ix\nQuem aí concorda com o @GustavoMinerva? 👀\n\nPra quem perdeu o #DepoisdoNexus de ontem, segue o trecho: https://t.co/w2UdtG9AGO\nA AstraZeneca desmentiu nesta terça (26) relatos sobre uma suposta baixa eficácia de sua vacina contra a Covid-19 e… https://t.co/6wBTXR2WD0\no #SixInvitational ta cada vez mais próximo 🤯\n\na #FURIAR6 já portando os @HyperXBrasil segue a preparação diária pr… https://t.co/wahKtjyQnM\nA CNA acaba de divulgar a balança comercial do agronegócio brasileiro em 2020. https://t.co/ROudUgSnRV\nJá não se sabe o que é mais provável: o governo Bolsonaro privatizar alguma grande estatal, ou estatizar uma produtora de leite condensado.\nRT @RevistaCrusoe: MP do Rio entra com ação para cobrar divulgação diária dos vacinados. https://t.co/x4CEGOpVX0\nPreparados para os jogos do #CBLOLAcademy? \n\nTemos as odds pela @Rivalrylolbr, então já corre no site deles para ap… https://t.co/E2Q3UVR7En\n"
     ]
    }
   ],
   "source": [
    "for tweet in public_tweets:\n",
    "    print(tweet.text)"
   ]
  },
  {
   "cell_type": "code",
   "execution_count": 5,
   "metadata": {},
   "outputs": [],
   "source": [
    "tw_keys = tweet._json.keys()\n",
    "\n",
    "tweets_dict = {}\n",
    "\n",
    "tweets_dict = tweets_dict.fromkeys(['created_at', 'id', 'id_str', 'text', 'truncated', 'entities', 'metadata', 'source', 'in_reply_to_status_id', 'in_reply_to_status_id_str', 'in_reply_to_user_id', 'in_reply_to_user_id_str', 'in_reply_to_screen_name', 'user', 'geo', 'coordinates', 'place', 'contributors', 'is_quote_status', 'retweet_count', 'favorite_count', 'favorited', 'retweeted'])"
   ]
  },
  {
   "cell_type": "code",
   "execution_count": 6,
   "metadata": {},
   "outputs": [],
   "source": [
    "query_search = \"#enem2021\"  + \" -filter:retweets\" \n",
    "\n",
    "cursor_tweets = tw.Cursor(api.search,\n",
    "            q=query_search).items(10)"
   ]
  },
  {
   "cell_type": "code",
   "execution_count": 7,
   "metadata": {},
   "outputs": [],
   "source": [
    "for tweet in cursor_tweets:\n",
    "    for key in tweets_dict.keys():\n",
    "        try:\n",
    "            tw_value = tweet._json[key]\n",
    "            tweets_dict[key].append(tw_value)\n",
    "        except KeyError:\n",
    "            tw_value = \"\"\n",
    "            if(tweets_dict[key] is None):\n",
    "                tweets_dict[key] = [tw_value]\n",
    "            else:\n",
    "                tweets_dict[key].append(tw_value)\n",
    "        except:\n",
    "            tweets_dict[key] = [tw_value]\n",
    "        #print(\"tweets_dict[key]: {} - tweet[key]: {}\".format(tweets_dict[key],  tw_value))"
   ]
  },
  {
   "cell_type": "code",
   "execution_count": 8,
   "metadata": {},
   "outputs": [],
   "source": [
    "df_tweets = pd.DataFrame.from_dict(tweets_dict)"
   ]
  },
  {
   "cell_type": "code",
   "execution_count": 9,
   "metadata": {},
   "outputs": [
    {
     "output_type": "execute_result",
     "data": {
      "text/plain": [
       "                       created_at                   id               id_str  \\\n",
       "0  Tue Jan 26 16:30:23 +0000 2021  1354104406527107073  1354104406527107073   \n",
       "1  Tue Jan 26 16:20:13 +0000 2021  1354101848005877760  1354101848005877760   \n",
       "2  Tue Jan 26 16:07:54 +0000 2021  1354098750415892480  1354098750415892480   \n",
       "3  Tue Jan 26 16:02:31 +0000 2021  1354097393000706049  1354097393000706049   \n",
       "4  Tue Jan 26 15:46:34 +0000 2021  1354093379630596097  1354093379630596097   \n",
       "\n",
       "                                                text  truncated  \\\n",
       "0  @taehyisart não, eca\\n#afazenda12 #enem2021\\n#...      False   \n",
       "1  @jkkwrId multi\\n#afazenda12 #enem2021\\n#bbtvi2...      False   \n",
       "2  📴👋\\n#afazenda12 #enem2021\\n#bbtvi2020 #followt...      False   \n",
       "3  Fies do 2º semestre vai aceitar notas do Enem ...       True   \n",
       "4  @sugaviolets 10/09\\n#afazenda12 #enem2021\\n#bb...      False   \n",
       "\n",
       "                                            entities  \\\n",
       "0  {'hashtags': [{'text': 'afazenda12', 'indices'...   \n",
       "1  {'hashtags': [{'text': 'afazenda12', 'indices'...   \n",
       "2  {'hashtags': [{'text': 'afazenda12', 'indices'...   \n",
       "3  {'hashtags': [{'text': 'fies', 'indices': [91,...   \n",
       "4  {'hashtags': [{'text': 'afazenda12', 'indices'...   \n",
       "\n",
       "                                            metadata  \\\n",
       "0  {'iso_language_code': 'pt', 'result_type': 're...   \n",
       "1  {'iso_language_code': 'es', 'result_type': 're...   \n",
       "2  {'iso_language_code': 'und', 'result_type': 'r...   \n",
       "3  {'iso_language_code': 'pt', 'result_type': 're...   \n",
       "4  {'iso_language_code': 'und', 'result_type': 'r...   \n",
       "\n",
       "                                              source  in_reply_to_status_id  \\\n",
       "0  <a href=\"http://twitter.com/download/android\" ...           1.354104e+18   \n",
       "1  <a href=\"http://twitter.com/download/android\" ...           1.354101e+18   \n",
       "2  <a href=\"http://twitter.com/download/android\" ...                    NaN   \n",
       "3  <a href=\"https://mobile.twitter.com\" rel=\"nofo...                    NaN   \n",
       "4  <a href=\"http://twitter.com/download/android\" ...           1.354092e+18   \n",
       "\n",
       "  in_reply_to_status_id_str  ...  \\\n",
       "0       1354104065991520257  ...   \n",
       "1       1354101468257804288  ...   \n",
       "2                      None  ...   \n",
       "3                      None  ...   \n",
       "4       1354092495261609985  ...   \n",
       "\n",
       "                                                user   geo coordinates place  \\\n",
       "0  {'id': 1256620649856073729, 'id_str': '1256620...  None        None  None   \n",
       "1  {'id': 1256620649856073729, 'id_str': '1256620...  None        None  None   \n",
       "2  {'id': 1204824204404838402, 'id_str': '1204824...  None        None  None   \n",
       "3  {'id': 153808572, 'id_str': '153808572', 'name...  None        None  None   \n",
       "4  {'id': 1204824204404838402, 'id_str': '1204824...  None        None  None   \n",
       "\n",
       "  contributors is_quote_status retweet_count favorite_count  favorited  \\\n",
       "0         None           False             0              0      False   \n",
       "1         None           False             0              1      False   \n",
       "2         None           False             0              0      False   \n",
       "3         None           False             0              0      False   \n",
       "4         None           False             0              0      False   \n",
       "\n",
       "   retweeted  \n",
       "0      False  \n",
       "1      False  \n",
       "2      False  \n",
       "3      False  \n",
       "4      False  \n",
       "\n",
       "[5 rows x 23 columns]"
      ],
      "text/html": "<div>\n<style scoped>\n    .dataframe tbody tr th:only-of-type {\n        vertical-align: middle;\n    }\n\n    .dataframe tbody tr th {\n        vertical-align: top;\n    }\n\n    .dataframe thead th {\n        text-align: right;\n    }\n</style>\n<table border=\"1\" class=\"dataframe\">\n  <thead>\n    <tr style=\"text-align: right;\">\n      <th></th>\n      <th>created_at</th>\n      <th>id</th>\n      <th>id_str</th>\n      <th>text</th>\n      <th>truncated</th>\n      <th>entities</th>\n      <th>metadata</th>\n      <th>source</th>\n      <th>in_reply_to_status_id</th>\n      <th>in_reply_to_status_id_str</th>\n      <th>...</th>\n      <th>user</th>\n      <th>geo</th>\n      <th>coordinates</th>\n      <th>place</th>\n      <th>contributors</th>\n      <th>is_quote_status</th>\n      <th>retweet_count</th>\n      <th>favorite_count</th>\n      <th>favorited</th>\n      <th>retweeted</th>\n    </tr>\n  </thead>\n  <tbody>\n    <tr>\n      <th>0</th>\n      <td>Tue Jan 26 16:30:23 +0000 2021</td>\n      <td>1354104406527107073</td>\n      <td>1354104406527107073</td>\n      <td>@taehyisart não, eca\\n#afazenda12 #enem2021\\n#...</td>\n      <td>False</td>\n      <td>{'hashtags': [{'text': 'afazenda12', 'indices'...</td>\n      <td>{'iso_language_code': 'pt', 'result_type': 're...</td>\n      <td>&lt;a href=\"http://twitter.com/download/android\" ...</td>\n      <td>1.354104e+18</td>\n      <td>1354104065991520257</td>\n      <td>...</td>\n      <td>{'id': 1256620649856073729, 'id_str': '1256620...</td>\n      <td>None</td>\n      <td>None</td>\n      <td>None</td>\n      <td>None</td>\n      <td>False</td>\n      <td>0</td>\n      <td>0</td>\n      <td>False</td>\n      <td>False</td>\n    </tr>\n    <tr>\n      <th>1</th>\n      <td>Tue Jan 26 16:20:13 +0000 2021</td>\n      <td>1354101848005877760</td>\n      <td>1354101848005877760</td>\n      <td>@jkkwrId multi\\n#afazenda12 #enem2021\\n#bbtvi2...</td>\n      <td>False</td>\n      <td>{'hashtags': [{'text': 'afazenda12', 'indices'...</td>\n      <td>{'iso_language_code': 'es', 'result_type': 're...</td>\n      <td>&lt;a href=\"http://twitter.com/download/android\" ...</td>\n      <td>1.354101e+18</td>\n      <td>1354101468257804288</td>\n      <td>...</td>\n      <td>{'id': 1256620649856073729, 'id_str': '1256620...</td>\n      <td>None</td>\n      <td>None</td>\n      <td>None</td>\n      <td>None</td>\n      <td>False</td>\n      <td>0</td>\n      <td>1</td>\n      <td>False</td>\n      <td>False</td>\n    </tr>\n    <tr>\n      <th>2</th>\n      <td>Tue Jan 26 16:07:54 +0000 2021</td>\n      <td>1354098750415892480</td>\n      <td>1354098750415892480</td>\n      <td>📴👋\\n#afazenda12 #enem2021\\n#bbtvi2020 #followt...</td>\n      <td>False</td>\n      <td>{'hashtags': [{'text': 'afazenda12', 'indices'...</td>\n      <td>{'iso_language_code': 'und', 'result_type': 'r...</td>\n      <td>&lt;a href=\"http://twitter.com/download/android\" ...</td>\n      <td>NaN</td>\n      <td>None</td>\n      <td>...</td>\n      <td>{'id': 1204824204404838402, 'id_str': '1204824...</td>\n      <td>None</td>\n      <td>None</td>\n      <td>None</td>\n      <td>None</td>\n      <td>False</td>\n      <td>0</td>\n      <td>0</td>\n      <td>False</td>\n      <td>False</td>\n    </tr>\n    <tr>\n      <th>3</th>\n      <td>Tue Jan 26 16:02:31 +0000 2021</td>\n      <td>1354097393000706049</td>\n      <td>1354097393000706049</td>\n      <td>Fies do 2º semestre vai aceitar notas do Enem ...</td>\n      <td>True</td>\n      <td>{'hashtags': [{'text': 'fies', 'indices': [91,...</td>\n      <td>{'iso_language_code': 'pt', 'result_type': 're...</td>\n      <td>&lt;a href=\"https://mobile.twitter.com\" rel=\"nofo...</td>\n      <td>NaN</td>\n      <td>None</td>\n      <td>...</td>\n      <td>{'id': 153808572, 'id_str': '153808572', 'name...</td>\n      <td>None</td>\n      <td>None</td>\n      <td>None</td>\n      <td>None</td>\n      <td>False</td>\n      <td>0</td>\n      <td>0</td>\n      <td>False</td>\n      <td>False</td>\n    </tr>\n    <tr>\n      <th>4</th>\n      <td>Tue Jan 26 15:46:34 +0000 2021</td>\n      <td>1354093379630596097</td>\n      <td>1354093379630596097</td>\n      <td>@sugaviolets 10/09\\n#afazenda12 #enem2021\\n#bb...</td>\n      <td>False</td>\n      <td>{'hashtags': [{'text': 'afazenda12', 'indices'...</td>\n      <td>{'iso_language_code': 'und', 'result_type': 'r...</td>\n      <td>&lt;a href=\"http://twitter.com/download/android\" ...</td>\n      <td>1.354092e+18</td>\n      <td>1354092495261609985</td>\n      <td>...</td>\n      <td>{'id': 1204824204404838402, 'id_str': '1204824...</td>\n      <td>None</td>\n      <td>None</td>\n      <td>None</td>\n      <td>None</td>\n      <td>False</td>\n      <td>0</td>\n      <td>0</td>\n      <td>False</td>\n      <td>False</td>\n    </tr>\n  </tbody>\n</table>\n<p>5 rows × 23 columns</p>\n</div>"
     },
     "metadata": {},
     "execution_count": 9
    }
   ],
   "source": [
    "df_tweets.head()"
   ]
  },
  {
   "cell_type": "code",
   "execution_count": 33,
   "metadata": {},
   "outputs": [
    {
     "output_type": "stream",
     "name": "stdout",
     "text": [
      "0     SUNO30 fecha em alta de 3,91% aos R$ 104,07\\n\\...\n1     SUNO30 fecha em alta de 3,91% aos R$ 104,07\\n\\...\n2     #Merkel hat Recht. Warum müssen Menschen in de...\n3     Studien zu britischer Mutation. Virusvariante ...\n4     En nu is er weer een nieuwe virusvariant opged...\n5     #Merkel👍🏼#DDR Was für Schwachmaten!👎🏼🤪😷\\n#coro...\n6     Good Night Bulletin\\nhttps://t.co/W3MJgOYgKS\\n...\n7     Bursa Eropa Menguat Terdukung Harapan Vaksin d...\n8     @FrauRektorin @RegierungBW @KM_BW @CDU_BW @Fra...\n9     Ik had, nu zo in alweer maand 11🤦🏻‍♂️van de #C...\n10    Unsere Kinderakademie geht wieder online! 💻 Am...\n11    🇦🇹 Fußball: Der SVG Bleiburg ist gerüstet http...\n12    #Merkel hat Recht. Warum müssen Menschen in de...\n13    Studien zu britischer Mutation. Virusvariante ...\n14    En nu is er weer een nieuwe virusvariant opged...\n15    #Merkel👍🏼#DDR Was für Schwachmaten!👎🏼🤪😷\\n#coro...\n16    Good Night Bulletin\\nhttps://t.co/W3MJgOYgKS\\n...\n17    Bursa Eropa Menguat Terdukung Harapan Vaksin d...\n18    @FrauRektorin @RegierungBW @KM_BW @CDU_BW @Fra...\n19    Ik had, nu zo in alweer maand 11🤦🏻‍♂️van de #C...\n20    Unsere Kinderakademie geht wieder online! 💻 Am...\n21    🇦🇹 Fußball: Der SVG Bleiburg ist gerüstet http...\n22    It’s time for Congress to take action to aid a...\n23    @JovemPanNews Digo, respiradores.\\nLoja de vin...\n24    ¿ES GRIPE, INFLUENZA O COVID-19? https://t.co/...\n25    Tres cepas nueva mutación del Covid-19 \\nhttps...\n26    #BidenTakeAction\\n#UNSCActNow\\n#TigrayGenocide...\n27    https://t.co/D2DF0QvWt9 - Jan 5th, 2021\\n\\nhtt...\n28    No, 100,000 people have not died *of Covid-19*...\n29    Campagne de vaccination anti-Covid-19 : les pr...\n30    @GovRonDeSantis Actually we’re number 33 in Co...\n31    Audit finds Michigan needs better financial co...\nName: text, dtype: object\n"
     ]
    }
   ],
   "source": [
    "print(df_tweets['text'])"
   ]
  }
 ]
}