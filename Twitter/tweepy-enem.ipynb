{
 "metadata": {
  "language_info": {
   "codemirror_mode": {
    "name": "ipython",
    "version": 3
   },
   "file_extension": ".py",
   "mimetype": "text/x-python",
   "name": "python",
   "nbconvert_exporter": "python",
   "pygments_lexer": "ipython3",
   "version": "3.9.1"
  },
  "orig_nbformat": 2,
  "kernelspec": {
   "name": "python3",
   "display_name": "Python 3.9.1 64-bit",
   "metadata": {
    "interpreter": {
     "hash": "0e23e1a9f4ca7468c8af4ee6ce308b9537df5993bd4db8f7613c5e8b7c551c19"
    }
   }
  }
 },
 "nbformat": 4,
 "nbformat_minor": 2,
 "cells": [
  {
   "cell_type": "code",
   "execution_count": 1,
   "metadata": {},
   "outputs": [],
   "source": [
    "import pandas as pd\n",
    "import tweepy as tw"
   ]
  },
  {
   "cell_type": "code",
   "execution_count": 2,
   "metadata": {},
   "outputs": [],
   "source": [
    "with open('twitter-tokens.txt', 'r') as tfile:\n",
    "    consumer_key = tfile.readline().strip('\\n')\n",
    "    consumer_secret = tfile.readline().strip('\\n')\n",
    "    access_token = tfile.readline().strip('\\n')\n",
    "    access_token_secret = tfile.readline().strip('\\n')"
   ]
  },
  {
   "cell_type": "code",
   "execution_count": 3,
   "metadata": {},
   "outputs": [],
   "source": [
    "auth = tw.OAuthHandler(consumer_key, consumer_secret)\n",
    "auth.set_access_token(access_token, access_token_secret)\n",
    "\n",
    "api = tw.API(auth)\n",
    "\n",
    "public_tweets = api.home_timeline()"
   ]
  },
  {
   "cell_type": "code",
   "execution_count": 4,
   "metadata": {},
   "outputs": [
    {
     "output_type": "stream",
     "name": "stdout",
     "text": [
      "Produção terá como foco os impactos da diminuição de atividades humanas na natureza e na vida selvagem, em consequê… https://t.co/TzMkYWDQtz\nRT @Zantins: KKKKKKKKKKKKKKKKKKKK https://t.co/2cjFOySuXi\nO Dória processou o @DiogoPortugal por causa de uma esquete de humor.\n\nSolidariedade ao meu amigo. Conte comigo nis… https://t.co/ejwUoF682R\nEntre os mais de 16 milhões de vacinados, 4.819.324 receberam a segunda dose, o que representa 2,28% da população b… https://t.co/Ab3hMDdMNk\nBolsonaro tenta cooptar instituições como as Forças Armadas, faz concessões ao Centrão e se cerca de ministros subs… https://t.co/IKQIBYZk6h\nLIVE ON PORRAAAAA\nhttps://t.co/nnJdH8oyHx\nEm entrevista ao Papo Antagonista, o governador do Maranhão, Flávio Dino, comentou as demissões de ministros do gov… https://t.co/udQ0TRm0oi\n\"Todos sabemos que muitas pessoas chegam aos hospitais e aí, às vezes, a primeira providência é colocar o oxigênio… https://t.co/UmcmevhO1F\nPapo sério agora. Já está com os meus editores no Globo o artigo de amanhã, “O apito soprou”, sobre o ato terrorist… https://t.co/u5hJWw3r2X\nSem segredo rapaziada, dropa 1 desse pra mente e a mágica acontece 👃\nRT @lucaspavanato: Achamos um eleitor do Lula 😲 https://t.co/xzaED1oUFv\nExpansão stand alone Aiko's Choice terá muito conteúdo extra e está prevista para ser lançada ainda neste ano com e… https://t.co/bnBIW92wXX\nRT @UrbanDemog: 6/7 Muito ruim. Mas dada a gravidade da pandemia, é dificil imaginar c/ o censo poderia ser feito sem comprometer a sua qua…\nF ESA 😢 #DepoisDoCrime https://t.co/O6KamxkdP7\nRT @UrbanDemog: O Censo Demográfico do IBGE é provavelmente a mais importante pesquisa de coleta de dados do Brasil. A sua postergação (mai…\nRT @mblivrenews: \"Ergueu-se contra mim uma narrativa falsa e hipócrita\"\n\nhttps://t.co/ITj14LPaFE\nEm 2018, milhões de pessoas votaram no Bolsonaro com a esperança de um Brasil melhor, longe das garras asquerosas d… https://t.co/V7P2qb5Qz7\nO que você acha que vai acontecer?\nEm entrevista ao Papo Antagonista, governador do Maranhão disse, porém, que o processo já tem embasamento jurídico… https://t.co/2mI6LVhXTj\nBORA DALE QUE O DDC TÁ ON 🔥\n\nParticipe do programa com a gente, mande sua pergunta usando #DepoisDoCrime que a true… https://t.co/xJw3qNrLyB\n"
     ]
    }
   ],
   "source": [
    "for tweet in public_tweets:\n",
    "    print(tweet.text)"
   ]
  },
  {
   "cell_type": "code",
   "execution_count": 5,
   "metadata": {},
   "outputs": [],
   "source": [
    "tw_keys = tweet._json.keys()\n",
    "\n",
    "tweets_dict = {}\n",
    "\n",
    "tweets_dict = tweets_dict.fromkeys(['created_at', 'id', 'id_str', 'text', 'truncated', 'entities', 'metadata', 'source', 'in_reply_to_status_id', 'in_reply_to_status_id_str', 'in_reply_to_user_id', 'in_reply_to_user_id_str', 'in_reply_to_screen_name', 'user', 'geo', 'coordinates', 'place', 'contributors', 'is_quote_status', 'retweet_count', 'favorite_count', 'favorited', 'retweeted'])"
   ]
  },
  {
   "cell_type": "code",
   "execution_count": 6,
   "metadata": {},
   "outputs": [],
   "source": [
    "query_search = \"#enem\"  + \" -filter:retweets\" \n",
    "\n",
    "cursor_tweets = tw.Cursor(api.search,\n",
    "            q=query_search).items(10)"
   ]
  },
  {
   "cell_type": "code",
   "execution_count": 7,
   "metadata": {},
   "outputs": [],
   "source": [
    "for tweet in cursor_tweets:\n",
    "    for key in tweets_dict.keys():\n",
    "        try:\n",
    "            tw_value = tweet._json[key]\n",
    "            tweets_dict[key].append(tw_value)\n",
    "        except KeyError:\n",
    "            tw_value = \"\"\n",
    "            if(tweets_dict[key] is None):\n",
    "                tweets_dict[key] = [tw_value]\n",
    "            else:\n",
    "                tweets_dict[key].append(tw_value)\n",
    "        except:\n",
    "            tweets_dict[key] = [tw_value]\n",
    "        #print(\"tweets_dict[key]: {} - tweet[key]: {}\".format(tweets_dict[key],  tw_value))"
   ]
  },
  {
   "cell_type": "code",
   "execution_count": 8,
   "metadata": {},
   "outputs": [],
   "source": [
    "df_tweets = pd.DataFrame.from_dict(tweets_dict)"
   ]
  },
  {
   "cell_type": "code",
   "execution_count": 9,
   "metadata": {},
   "outputs": [
    {
     "output_type": "execute_result",
     "data": {
      "text/plain": [
       "                       created_at                   id               id_str  \\\n",
       "0  Tue Mar 30 01:03:03 +0000 2021  1376701470150684672  1376701470150684672   \n",
       "1  Tue Mar 30 01:02:51 +0000 2021  1376701421278597131  1376701421278597131   \n",
       "2  Tue Mar 30 01:02:49 +0000 2021  1376701412302807040  1376701412302807040   \n",
       "3  Tue Mar 30 01:02:48 +0000 2021  1376701408351752192  1376701408351752192   \n",
       "4  Tue Mar 30 01:02:45 +0000 2021  1376701397320732674  1376701397320732674   \n",
       "\n",
       "                                                text  truncated  \\\n",
       "0  Eu esperando a Debora Aladim fazer um vídeo es...      False   \n",
       "1  Sobre o \"conserto\" do site do INEP\\n#Enem2020 ...      False   \n",
       "2  Respeite a sua jornada! Você é vitorioso(a) po...       True   \n",
       "3  Site do Enem apresenta instabilidades nesta se...      False   \n",
       "4  OpS oCoRReu UMa fALha de COmUNicAÇão enTRe vOc...      False   \n",
       "\n",
       "                                            entities  \\\n",
       "0  {'hashtags': [{'text': 'Inep', 'indices': [59,...   \n",
       "1  {'hashtags': [{'text': 'Enem2020', 'indices': ...   \n",
       "2  {'hashtags': [], 'symbols': [], 'user_mentions...   \n",
       "3  {'hashtags': [{'text': 'enem', 'indices': [63,...   \n",
       "4  {'hashtags': [{'text': 'inep', 'indices': [52,...   \n",
       "\n",
       "                                            metadata  \\\n",
       "0  {'iso_language_code': 'pt', 'result_type': 're...   \n",
       "1  {'iso_language_code': 'pt', 'result_type': 're...   \n",
       "2  {'iso_language_code': 'pt', 'result_type': 're...   \n",
       "3  {'iso_language_code': 'pt', 'result_type': 're...   \n",
       "4  {'iso_language_code': 'pt', 'result_type': 're...   \n",
       "\n",
       "                                              source in_reply_to_status_id  \\\n",
       "0  <a href=\"http://twitter.com/download/iphone\" r...                  None   \n",
       "1  <a href=\"http://twitter.com/download/android\" ...                  None   \n",
       "2  <a href=\"https://www.facebook.com/socialmlabs/...                  None   \n",
       "3  <a href=\"https://mobile.twitter.com\" rel=\"nofo...                  None   \n",
       "4  <a href=\"http://twitter.com/download/iphone\" r...                  None   \n",
       "\n",
       "  in_reply_to_status_id_str  ...  \\\n",
       "0                      None  ...   \n",
       "1                      None  ...   \n",
       "2                      None  ...   \n",
       "3                      None  ...   \n",
       "4                      None  ...   \n",
       "\n",
       "                                                user   geo coordinates place  \\\n",
       "0  {'id': 1076963131790934016, 'id_str': '1076963...  None        None  None   \n",
       "1  {'id': 1229600464825614336, 'id_str': '1229600...  None        None  None   \n",
       "2  {'id': 4201903767, 'id_str': '4201903767', 'na...  None        None  None   \n",
       "3  {'id': 42962996, 'id_str': '42962996', 'name':...  None        None  None   \n",
       "4  {'id': 1260457150641561600, 'id_str': '1260457...  None        None  None   \n",
       "\n",
       "  contributors is_quote_status retweet_count favorite_count  favorited  \\\n",
       "0         None           False             0              0      False   \n",
       "1         None           False             0              1      False   \n",
       "2         None           False             0              0      False   \n",
       "3         None           False             0              0      False   \n",
       "4         None           False             0              2      False   \n",
       "\n",
       "   retweeted  \n",
       "0      False  \n",
       "1      False  \n",
       "2      False  \n",
       "3      False  \n",
       "4      False  \n",
       "\n",
       "[5 rows x 23 columns]"
      ],
      "text/html": "<div>\n<style scoped>\n    .dataframe tbody tr th:only-of-type {\n        vertical-align: middle;\n    }\n\n    .dataframe tbody tr th {\n        vertical-align: top;\n    }\n\n    .dataframe thead th {\n        text-align: right;\n    }\n</style>\n<table border=\"1\" class=\"dataframe\">\n  <thead>\n    <tr style=\"text-align: right;\">\n      <th></th>\n      <th>created_at</th>\n      <th>id</th>\n      <th>id_str</th>\n      <th>text</th>\n      <th>truncated</th>\n      <th>entities</th>\n      <th>metadata</th>\n      <th>source</th>\n      <th>in_reply_to_status_id</th>\n      <th>in_reply_to_status_id_str</th>\n      <th>...</th>\n      <th>user</th>\n      <th>geo</th>\n      <th>coordinates</th>\n      <th>place</th>\n      <th>contributors</th>\n      <th>is_quote_status</th>\n      <th>retweet_count</th>\n      <th>favorite_count</th>\n      <th>favorited</th>\n      <th>retweeted</th>\n    </tr>\n  </thead>\n  <tbody>\n    <tr>\n      <th>0</th>\n      <td>Tue Mar 30 01:03:03 +0000 2021</td>\n      <td>1376701470150684672</td>\n      <td>1376701470150684672</td>\n      <td>Eu esperando a Debora Aladim fazer um vídeo es...</td>\n      <td>False</td>\n      <td>{'hashtags': [{'text': 'Inep', 'indices': [59,...</td>\n      <td>{'iso_language_code': 'pt', 'result_type': 're...</td>\n      <td>&lt;a href=\"http://twitter.com/download/iphone\" r...</td>\n      <td>None</td>\n      <td>None</td>\n      <td>...</td>\n      <td>{'id': 1076963131790934016, 'id_str': '1076963...</td>\n      <td>None</td>\n      <td>None</td>\n      <td>None</td>\n      <td>None</td>\n      <td>False</td>\n      <td>0</td>\n      <td>0</td>\n      <td>False</td>\n      <td>False</td>\n    </tr>\n    <tr>\n      <th>1</th>\n      <td>Tue Mar 30 01:02:51 +0000 2021</td>\n      <td>1376701421278597131</td>\n      <td>1376701421278597131</td>\n      <td>Sobre o \"conserto\" do site do INEP\\n#Enem2020 ...</td>\n      <td>False</td>\n      <td>{'hashtags': [{'text': 'Enem2020', 'indices': ...</td>\n      <td>{'iso_language_code': 'pt', 'result_type': 're...</td>\n      <td>&lt;a href=\"http://twitter.com/download/android\" ...</td>\n      <td>None</td>\n      <td>None</td>\n      <td>...</td>\n      <td>{'id': 1229600464825614336, 'id_str': '1229600...</td>\n      <td>None</td>\n      <td>None</td>\n      <td>None</td>\n      <td>None</td>\n      <td>False</td>\n      <td>0</td>\n      <td>1</td>\n      <td>False</td>\n      <td>False</td>\n    </tr>\n    <tr>\n      <th>2</th>\n      <td>Tue Mar 30 01:02:49 +0000 2021</td>\n      <td>1376701412302807040</td>\n      <td>1376701412302807040</td>\n      <td>Respeite a sua jornada! Você é vitorioso(a) po...</td>\n      <td>True</td>\n      <td>{'hashtags': [], 'symbols': [], 'user_mentions...</td>\n      <td>{'iso_language_code': 'pt', 'result_type': 're...</td>\n      <td>&lt;a href=\"https://www.facebook.com/socialmlabs/...</td>\n      <td>None</td>\n      <td>None</td>\n      <td>...</td>\n      <td>{'id': 4201903767, 'id_str': '4201903767', 'na...</td>\n      <td>None</td>\n      <td>None</td>\n      <td>None</td>\n      <td>None</td>\n      <td>False</td>\n      <td>0</td>\n      <td>0</td>\n      <td>False</td>\n      <td>False</td>\n    </tr>\n    <tr>\n      <th>3</th>\n      <td>Tue Mar 30 01:02:48 +0000 2021</td>\n      <td>1376701408351752192</td>\n      <td>1376701408351752192</td>\n      <td>Site do Enem apresenta instabilidades nesta se...</td>\n      <td>False</td>\n      <td>{'hashtags': [{'text': 'enem', 'indices': [63,...</td>\n      <td>{'iso_language_code': 'pt', 'result_type': 're...</td>\n      <td>&lt;a href=\"https://mobile.twitter.com\" rel=\"nofo...</td>\n      <td>None</td>\n      <td>None</td>\n      <td>...</td>\n      <td>{'id': 42962996, 'id_str': '42962996', 'name':...</td>\n      <td>None</td>\n      <td>None</td>\n      <td>None</td>\n      <td>None</td>\n      <td>False</td>\n      <td>0</td>\n      <td>0</td>\n      <td>False</td>\n      <td>False</td>\n    </tr>\n    <tr>\n      <th>4</th>\n      <td>Tue Mar 30 01:02:45 +0000 2021</td>\n      <td>1376701397320732674</td>\n      <td>1376701397320732674</td>\n      <td>OpS oCoRReu UMa fALha de COmUNicAÇão enTRe vOc...</td>\n      <td>False</td>\n      <td>{'hashtags': [{'text': 'inep', 'indices': [52,...</td>\n      <td>{'iso_language_code': 'pt', 'result_type': 're...</td>\n      <td>&lt;a href=\"http://twitter.com/download/iphone\" r...</td>\n      <td>None</td>\n      <td>None</td>\n      <td>...</td>\n      <td>{'id': 1260457150641561600, 'id_str': '1260457...</td>\n      <td>None</td>\n      <td>None</td>\n      <td>None</td>\n      <td>None</td>\n      <td>False</td>\n      <td>0</td>\n      <td>2</td>\n      <td>False</td>\n      <td>False</td>\n    </tr>\n  </tbody>\n</table>\n<p>5 rows × 23 columns</p>\n</div>"
     },
     "metadata": {},
     "execution_count": 9
    }
   ],
   "source": [
    "df_tweets.head()"
   ]
  },
  {
   "cell_type": "code",
   "execution_count": 10,
   "metadata": {},
   "outputs": [
    {
     "output_type": "execute_result",
     "data": {
      "text/plain": [
       "(10, 23)"
      ]
     },
     "metadata": {},
     "execution_count": 10
    }
   ],
   "source": [
    "df_tweets.shape"
   ]
  },
  {
   "cell_type": "code",
   "execution_count": 11,
   "metadata": {},
   "outputs": [
    {
     "output_type": "stream",
     "name": "stdout",
     "text": [
      "0    Eu esperando a Debora Aladim fazer um vídeo es...\n1    Sobre o \"conserto\" do site do INEP\\n#Enem2020 ...\n2    Respeite a sua jornada! Você é vitorioso(a) po...\n3    Site do Enem apresenta instabilidades nesta se...\n4    OpS oCoRReu UMa fALha de COmUNicAÇão enTRe vOc...\n5    Meu Inep abriu \\n\\nNo dia que fui ver meu loca...\n6    Alguém pede pra alguém do INEP da um reset no ...\n7    Agora não sai disso #Enem @inep_oficial https:...\n8    A instituição MAIS RÍGIDA DO PLANETA na correç...\n9    Não dúvido nada eu está incluída nas pessoas q...\nName: text, dtype: object\n"
     ]
    }
   ],
   "source": [
    "print(df_tweets['text'])"
   ]
  }
 ]
}